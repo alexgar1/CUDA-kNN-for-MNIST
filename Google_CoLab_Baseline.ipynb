{
  "cells": [
    {
      "cell_type": "code",
      "execution_count": 5,
      "metadata": {
        "colab": {
          "base_uri": "https://localhost:8080/"
        },
        "id": "E5McelIRqaoh",
        "outputId": "e63804f7-0e11-4255-d04f-36961d2452be"
      },
      "outputs": [
        {
          "name": "stdout",
          "output_type": "stream",
          "text": [
            "MNIST 数据集下载完成\n",
            "训练集图像文件存在: True\n",
            "训练集标签文件存在: True\n",
            "测试集图像文件存在: True\n",
            "测试集标签文件存在: True\n"
          ]
        }
      ],
      "source": [
        "import torchvision.datasets as datasets\n",
        "import os\n",
        "\n",
        "# 下载 MNIST 数据集\n",
        "def download_mnist():\n",
        "    # 下载训练集\n",
        "    train_dataset = datasets.MNIST(root='./data', train=True, download=True)\n",
        "\n",
        "    # 下载测试集\n",
        "    test_dataset = datasets.MNIST(root='./data', train=False, download=True)\n",
        "\n",
        "\n",
        "\n",
        "    # 验证文件是否存在\n",
        "    train_images_path = \"./data/MNIST/raw/train-images-idx3-ubyte\"\n",
        "    train_labels_path = \"./data/MNIST/raw/train-labels-idx1-ubyte\"\n",
        "    test_images_path = \"./data/MNIST/raw/t10k-images-idx3-ubyte\"\n",
        "    test_labels_path = \"./data/MNIST/raw/t10k-labels-idx1-ubyte\"\n",
        "\n",
        "    \n",
        "download_mnist()"
      ]
    },
    {
      "cell_type": "code",
      "execution_count": 6,
      "metadata": {
        "colab": {
          "base_uri": "https://localhost:8080/"
        },
        "id": "k6t4hLeZpzjZ",
        "outputId": "a6dfb70c-3f83-4c16-a446-b327042a68ca"
      },
      "outputs": [
        {
          "name": "stdout",
          "output_type": "stream",
          "text": [
            "Loading MNIST dataset...\n",
            "Successfully loaded 60000 training samples and 10000 test samples.\n",
            "Fitting the model...\n",
            "Making predictions...\n",
            "\n",
            "Final Results:\n",
            "Total training samples: 60000\n",
            "Total test samples: 10000\n",
            "Correct predictions: 9671\n",
            "Accuracy: 96.71%\n",
            "\n",
            "Timing Information:\n",
            "Training time: 0.33 seconds\n",
            "Testing time: 0.86 seconds\n",
            "Total execution time: 1.19 seconds\n"
          ]
        }
      ],
      "source": [
        "import torch\n",
        "import numpy as np\n",
        "import time\n",
        "import struct\n",
        "\n",
        "def load_mnist_images(image_path, label_path):\n",
        "    # Read images\n",
        "    with open(image_path, 'rb') as f:\n",
        "        magic, num, rows, cols = struct.unpack('>IIII', f.read(16))\n",
        "        images = np.fromfile(f, dtype=np.uint8).reshape(num, rows*cols)\n",
        "        images = images.astype(np.float32) / 255.0  # Normalize to [0,1]\n",
        "\n",
        "    # Read labels\n",
        "    with open(label_path, 'rb') as f:\n",
        "        magic, num = struct.unpack('>II', f.read(8))\n",
        "        labels = np.fromfile(f, dtype=np.uint8)\n",
        "\n",
        "    return images, labels\n",
        "\n",
        "class KNNClassifier:\n",
        "    def __init__(self, k=10):\n",
        "        self.k = k\n",
        "        self.device = torch.device('cuda' if torch.cuda.is_available() else 'cpu')\n",
        "\n",
        "    def fit(self, X, y):\n",
        "        self.X_train = torch.tensor(X, device=self.device)\n",
        "        self.y_train = torch.tensor(y, device=self.device)\n",
        "\n",
        "    def predict(self, X):\n",
        "        X = torch.tensor(X, device=self.device)\n",
        "        num_test = X.size(0)\n",
        "        num_train = self.X_train.size(0)\n",
        "\n",
        "        # Compute distances\n",
        "        X_square = torch.sum(X**2, dim=1, keepdim=True)\n",
        "        train_square = torch.sum(self.X_train**2, dim=1)\n",
        "        distances = X_square + train_square - 2 * torch.mm(X, self.X_train.t())\n",
        "        distances = torch.sqrt(distances)\n",
        "\n",
        "        # Find k nearest neighbors\n",
        "        _, indices = torch.topk(distances, k=self.k, dim=1, largest=False)\n",
        "\n",
        "        # Get labels of k nearest neighbors\n",
        "        k_nearest_labels = self.y_train[indices]\n",
        "\n",
        "        # Majority vote\n",
        "        predictions = torch.mode(k_nearest_labels, dim=1)[0]\n",
        "\n",
        "        return predictions.cpu().numpy()\n",
        "\n",
        "def main():\n",
        "    # Load local MNIST data\n",
        "    print(\"Loading MNIST dataset...\")\n",
        "    try:\n",
        "        X_train, y_train = load_mnist_images(\n",
        "            \"./data/MNIST/raw/train-images-idx3-ubyte\",\n",
        "            \"./data/MNIST/raw/train-labels-idx1-ubyte\"\n",
        "        )\n",
        "        X_test, y_test = load_mnist_images(\n",
        "            \"./data/MNIST/raw/t10k-images-idx3-ubyte\",\n",
        "            \"./data/MNIST/raw/t10k-labels-idx1-ubyte\"\n",
        "        )\n",
        "    except Exception as e:\n",
        "        print(f\"Error loading MNIST data: {e}\")\n",
        "        return\n",
        "\n",
        "    print(f\"Successfully loaded {len(X_train)} training samples and {len(X_test)} test samples.\")\n",
        "\n",
        "    # Initialize classifier\n",
        "    knn = KNNClassifier(k=10)\n",
        "\n",
        "    # Start timing\n",
        "    total_start_time = time.time()\n",
        "\n",
        "    # Train timing\n",
        "    train_start = time.time()\n",
        "    print(\"Fitting the model...\")\n",
        "    knn.fit(X_train, y_train)\n",
        "    train_time = time.time() - train_start\n",
        "\n",
        "    # Test timing\n",
        "    test_start = time.time()\n",
        "    print(\"Making predictions...\")\n",
        "    predictions = knn.predict(X_test)\n",
        "    test_time = time.time() - test_start\n",
        "\n",
        "    # Calculate total time\n",
        "    total_time = time.time() - total_start_time\n",
        "\n",
        "    # Calculate accuracy\n",
        "    accuracy = np.mean(predictions == y_test) * 100\n",
        "    correct_predictions = np.sum(predictions == y_test)\n",
        "\n",
        "    # Print results\n",
        "    print(\"\\nFinal Results:\")\n",
        "    print(f\"Total training samples: {len(X_train)}\")\n",
        "    print(f\"Total test samples: {len(X_test)}\")\n",
        "    print(f\"Correct predictions: {correct_predictions}\")\n",
        "    print(f\"Accuracy: {accuracy:.2f}%\")\n",
        "    print(\"\\nTiming Information:\")\n",
        "    print(f\"Training time: {train_time:.2f} seconds\")\n",
        "    print(f\"Testing time: {test_time:.2f} seconds\")\n",
        "    print(f\"Total execution time: {total_time:.2f} seconds\")\n",
        "\n",
        "if __name__ == \"__main__\":\n",
        "    main()"
      ]
    }
  ],
  "metadata": {
    "accelerator": "GPU",
    "colab": {
      "gpuType": "T4",
      "provenance": []
    },
    "kernelspec": {
      "display_name": "Python 3",
      "name": "python3"
    },
    "language_info": {
      "codemirror_mode": {
        "name": "ipython",
        "version": 3
      },
      "file_extension": ".py",
      "mimetype": "text/x-python",
      "name": "python",
      "nbconvert_exporter": "python",
      "pygments_lexer": "ipython3",
      "version": "3.10.11"
    }
  },
  "nbformat": 4,
  "nbformat_minor": 0
}
